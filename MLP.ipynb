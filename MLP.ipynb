{
 "cells": [
  {
   "cell_type": "code",
   "execution_count": 1,
   "metadata": {},
   "outputs": [],
   "source": [
    "import tensorflow as tf\n",
    "from tensorflow import keras\n",
    "import numpy as np\n",
    "import pandas as pd\n",
    "import matplotlib.pyplot as plt\n",
    "from sklearn.model_selection import train_test_split"
   ]
  },
  {
   "cell_type": "code",
   "execution_count": 2,
   "metadata": {},
   "outputs": [],
   "source": [
    "model = keras.Sequential()\n",
    "\n",
    "model.add(keras.layers.Dense(40, activation='relu', kernel_regularizer=keras.regularizers.l2(0.1)))\n",
    "model.add(keras.layers.Dense(64, activation='relu', kernel_regularizer=keras.regularizers.l2(0.1)))\n",
    "model.add(keras.layers.Dense(120, activation='relu', kernel_regularizer=keras.regularizers.l2(0.1)))\n",
    "model.add(keras.layers.Dense(120, activation='relu', kernel_regularizer=keras.regularizers.l2(0.1)))\n",
    "model.add(keras.layers.Dense(64, activation='relu', kernel_regularizer=keras.regularizers.l2(0.1)))\n",
    "model.add(keras.layers.Dense(24, activation='relu', kernel_regularizer=keras.regularizers.l2(0.1)))\n",
    "model.add(keras.layers.Dense(10, activation='relu', kernel_regularizer=keras.regularizers.l2(0.1)))\n",
    "model.add(keras.layers.Dense(1, activation='sigmoid'))\n",
    "\n",
    "model.compile(optimizer=tf.train.AdamOptimizer(0.001), loss='binary_crossentropy', metrics=['accuracy'])"
   ]
  },
  {
   "cell_type": "code",
   "execution_count": 3,
   "metadata": {},
   "outputs": [],
   "source": [
    "data = pd.read_csv(\"NormalizedData.csv\")\n",
    "\n",
    "Y = data['BUY']\n",
    "X = data.drop('BUY', axis=1)\n",
    "\n",
    "X_train, XX, y_train, YY = train_test_split(X, Y, test_size = 0.10)\n",
    "X_valid, X_test, y_valid, y_test = train_test_split(XX, YY, test_size = 0.50)\n",
    "X_train = X_train.values\n",
    "X_test = X_test.values\n",
    "y_train = y_train.values\n",
    "y_test = y_test.values\n",
    "X_valid = X_valid.values\n",
    "y_valid = y_valid.values"
   ]
  },
  {
   "cell_type": "code",
   "execution_count": 4,
   "metadata": {},
   "outputs": [
    {
     "name": "stdout",
     "output_type": "stream",
     "text": [
      "Train on 35121 samples, validate on 1951 samples\n",
      "Epoch 1/30\n",
      "35121/35121 [==============================] - 5s 148us/step - loss: 2.7224 - acc: 0.7794 - val_loss: 0.5134 - val_acc: 0.7909\n",
      "Epoch 2/30\n",
      "35121/35121 [==============================] - 3s 91us/step - loss: 0.5272 - acc: 0.7799 - val_loss: 0.5133 - val_acc: 0.7909\n",
      "Epoch 3/30\n",
      "35121/35121 [==============================] - 3s 90us/step - loss: 0.5272 - acc: 0.7799 - val_loss: 0.5129 - val_acc: 0.7909\n",
      "Epoch 4/30\n",
      "35121/35121 [==============================] - 3s 90us/step - loss: 0.5272 - acc: 0.7799 - val_loss: 0.5132 - val_acc: 0.7909\n",
      "Epoch 5/30\n",
      "35121/35121 [==============================] - 3s 90us/step - loss: 0.5271 - acc: 0.7799 - val_loss: 0.5145 - val_acc: 0.7909\n",
      "Epoch 6/30\n",
      "35121/35121 [==============================] - 3s 90us/step - loss: 0.5272 - acc: 0.7799 - val_loss: 0.5130 - val_acc: 0.7909\n",
      "Epoch 7/30\n",
      "35121/35121 [==============================] - 3s 90us/step - loss: 0.5272 - acc: 0.7799 - val_loss: 0.5130 - val_acc: 0.7909\n",
      "Epoch 8/30\n",
      "35121/35121 [==============================] - 3s 92us/step - loss: 0.5271 - acc: 0.7799 - val_loss: 0.5130 - val_acc: 0.7909\n",
      "Epoch 9/30\n",
      "35121/35121 [==============================] - 3s 90us/step - loss: 0.5272 - acc: 0.7799 - val_loss: 0.5135 - val_acc: 0.7909\n",
      "Epoch 10/30\n",
      "35121/35121 [==============================] - 3s 90us/step - loss: 0.5271 - acc: 0.7799 - val_loss: 0.5132 - val_acc: 0.7909\n",
      "Epoch 11/30\n",
      "35121/35121 [==============================] - 3s 91us/step - loss: 0.5271 - acc: 0.7799 - val_loss: 0.5129 - val_acc: 0.7909\n",
      "Epoch 12/30\n",
      "35121/35121 [==============================] - 3s 90us/step - loss: 0.5272 - acc: 0.7799 - val_loss: 0.5130 - val_acc: 0.7909\n",
      "Epoch 13/30\n",
      "35121/35121 [==============================] - 3s 91us/step - loss: 0.5271 - acc: 0.7799 - val_loss: 0.5135 - val_acc: 0.7909\n",
      "Epoch 14/30\n",
      "35121/35121 [==============================] - 3s 91us/step - loss: 0.5271 - acc: 0.7799 - val_loss: 0.5132 - val_acc: 0.7909\n",
      "Epoch 15/30\n",
      "35121/35121 [==============================] - 3s 90us/step - loss: 0.5271 - acc: 0.7799 - val_loss: 0.5135 - val_acc: 0.7909\n",
      "Epoch 16/30\n",
      "35121/35121 [==============================] - 3s 91us/step - loss: 0.5271 - acc: 0.7799 - val_loss: 0.5131 - val_acc: 0.7909\n",
      "Epoch 17/30\n",
      "35121/35121 [==============================] - 3s 90us/step - loss: 0.5271 - acc: 0.7799 - val_loss: 0.5134 - val_acc: 0.7909\n",
      "Epoch 18/30\n",
      "35121/35121 [==============================] - 3s 90us/step - loss: 0.5271 - acc: 0.7799 - val_loss: 0.5138 - val_acc: 0.7909\n",
      "Epoch 19/30\n",
      "35121/35121 [==============================] - 3s 93us/step - loss: 0.5272 - acc: 0.7799 - val_loss: 0.5135 - val_acc: 0.7909\n",
      "Epoch 20/30\n",
      "35121/35121 [==============================] - 3s 92us/step - loss: 0.5270 - acc: 0.7799 - val_loss: 0.5129 - val_acc: 0.7909\n",
      "Epoch 21/30\n",
      "35121/35121 [==============================] - 3s 91us/step - loss: 0.5271 - acc: 0.7799 - val_loss: 0.5133 - val_acc: 0.7909\n",
      "Epoch 22/30\n",
      "35121/35121 [==============================] - 3s 92us/step - loss: 0.5271 - acc: 0.7799 - val_loss: 0.5129 - val_acc: 0.7909\n",
      "Epoch 23/30\n",
      "35121/35121 [==============================] - 3s 91us/step - loss: 0.5271 - acc: 0.7799 - val_loss: 0.5130 - val_acc: 0.7909\n",
      "Epoch 24/30\n",
      "35121/35121 [==============================] - 3s 92us/step - loss: 0.5271 - acc: 0.7799 - val_loss: 0.5129 - val_acc: 0.7909\n",
      "Epoch 25/30\n",
      "35121/35121 [==============================] - 3s 91us/step - loss: 0.5271 - acc: 0.7799 - val_loss: 0.5133 - val_acc: 0.7909\n",
      "Epoch 26/30\n",
      "35121/35121 [==============================] - 3s 91us/step - loss: 0.5271 - acc: 0.7799 - val_loss: 0.5131 - val_acc: 0.7909\n",
      "Epoch 27/30\n",
      "35121/35121 [==============================] - 3s 92us/step - loss: 0.5271 - acc: 0.7799 - val_loss: 0.5131 - val_acc: 0.7909\n",
      "Epoch 28/30\n",
      "35121/35121 [==============================] - 4s 104us/step - loss: 0.5271 - acc: 0.7799 - val_loss: 0.5132 - val_acc: 0.7909\n",
      "Epoch 29/30\n",
      "35121/35121 [==============================] - 3s 97us/step - loss: 0.5271 - acc: 0.7799 - val_loss: 0.5130 - val_acc: 0.7909\n",
      "Epoch 30/30\n",
      "35121/35121 [==============================] - 3s 89us/step - loss: 0.5271 - acc: 0.7799 - val_loss: 0.5133 - val_acc: 0.7909\n",
      "1952/1952 [==============================] - 0s 34us/step\n"
     ]
    },
    {
     "data": {
      "image/png": "[encoded data removed]",
      "text/plain": [
       "<Figure size 432x288 with 1 Axes>"
      ]
     },
     "metadata": {},
     "output_type": "display_data"
    }
   ],
   "source": [
    "history = model.fit(x=X_train, y=y_train, epochs= 30, validation_data=(X_valid, y_valid))\n",
    "model.evaluate(x = X_test, y = y_test)\n",
    "plt.plot(history.history['loss'])\n",
    "plt.plot(history.history['val_loss'])\n",
    "plt.title('model loss')\n",
    "plt.ylabel('loss')\n",
    "plt.xlabel('epoch')\n",
    "plt.legend(['train', 'validation'], loc='upper left')\n",
    "plt.show()"
   ]
  },
  {
   "cell_type": "code",
   "execution_count": null,
   "metadata": {},
   "outputs": [],
   "source": []
  }
 ],
 "metadata": {
  "kernelspec": {
   "display_name": "Python 3",
   "language": "python",
   "name": "python3"
  },
  "language_info": {
   "codemirror_mode": {
    "name": "ipython",
    "version": 3
   },
   "file_extension": ".py",
   "mimetype": "text/x-python",
   "name": "python",
   "nbconvert_exporter": "python",
   "pygments_lexer": "ipython3",
   "version": "3.6.0"
  }
 },
 "nbformat": 4,
 "nbformat_minor": 2
}
